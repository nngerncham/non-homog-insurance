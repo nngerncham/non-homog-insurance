{
 "cells": [
  {
   "cell_type": "code",
   "execution_count": 1,
   "id": "31a56d95-e86d-4c12-b621-d6b28128f3ab",
   "metadata": {},
   "outputs": [],
   "source": [
    "%display typeset"
   ]
  },
  {
   "cell_type": "markdown",
   "id": "57871134-a462-4def-8535-0782a181111f",
   "metadata": {},
   "source": [
    "# Non-homogenous Markov Chain for Actuarial Purposes"
   ]
  }
 ],
 "metadata": {
  "kernelspec": {
   "display_name": "SageMath 10.0",
   "language": "sage",
   "name": "sagemath"
  },
  "language_info": {
   "codemirror_mode": {
    "name": "ipython",
    "version": 3
   },
   "file_extension": ".py",
   "mimetype": "text/x-python",
   "name": "python",
   "nbconvert_exporter": "python",
   "pygments_lexer": "ipython3",
   "version": "3.11.3"
  }
 },
 "nbformat": 4,
 "nbformat_minor": 5
}
